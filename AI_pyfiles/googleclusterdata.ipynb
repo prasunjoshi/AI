{
 "cells": [
  {
   "cell_type": "markdown",
   "metadata": {},
   "source": [
    "# Google cluster data trace"
   ]
  },
  {
   "cell_type": "markdown",
   "metadata": {},
   "source": [
    "## Import headers"
   ]
  },
  {
   "cell_type": "code",
   "execution_count": 1,
   "metadata": {
    "collapsed": true
   },
   "outputs": [],
   "source": [
    "import graphlab\n",
    "from pandas import read_csv\n",
    "from os import listdir, chdir, path\n",
    "from random import randint, sample, seed"
   ]
  },
  {
   "cell_type": "markdown",
   "metadata": {},
   "source": [
    "## Change directory within the code"
   ]
  },
  {
   "cell_type": "code",
   "execution_count": 2,
   "metadata": {
    "collapsed": true
   },
   "outputs": [],
   "source": [
    "chdir('/Users/nmohan/Documents/Git Code/crowdsourced_cloud/clusterdata-2011-2')"
   ]
  },
  {
   "cell_type": "code",
   "execution_count": 3,
   "metadata": {
    "collapsed": false
   },
   "outputs": [
    {
     "name": "stdout",
     "output_type": "stream",
     "text": [
      "['.DS_Store', 'job_events', 'machine_attributes', 'machine_events', 'MD5SUM', 'README', 'schema.csv', 'SHA1SUM', 'SHA256SUM', 'task_constraints', 'task_events', 'task_usage']\n"
     ]
    }
   ],
   "source": [
    "print listdir('.')"
   ]
  },
  {
   "cell_type": "markdown",
   "metadata": {},
   "source": [
    "## Read the schema for organizing the trace"
   ]
  },
  {
   "cell_type": "code",
   "execution_count": 4,
   "metadata": {
    "collapsed": false
   },
   "outputs": [
    {
     "name": "stdout",
     "output_type": "stream",
     "text": [
      "This non-commercial license of GraphLab Create for academic use is assigned to nitinder.mohan@helsinki.fi and will expire on November 16, 2018.\n"
     ]
    },
    {
     "name": "stderr",
     "output_type": "stream",
     "text": [
      "[INFO] graphlab.cython.cy_server: GraphLab Create v2.1 started. Logging: /tmp/graphlab_server_1516538127.log\n"
     ]
    },
    {
     "data": {
      "text/html": [
       "<pre>Finished parsing file /Users/nmohan/Documents/Git Code/crowdsourced_cloud/clusterdata-2011-2/schema.csv</pre>"
      ],
      "text/plain": [
       "Finished parsing file /Users/nmohan/Documents/Git Code/crowdsourced_cloud/clusterdata-2011-2/schema.csv"
      ]
     },
     "metadata": {},
     "output_type": "display_data"
    },
    {
     "data": {
      "text/html": [
       "<pre>Parsing completed. Parsed 58 lines in 0.024252 secs.</pre>"
      ],
      "text/plain": [
       "Parsing completed. Parsed 58 lines in 0.024252 secs."
      ]
     },
     "metadata": {},
     "output_type": "display_data"
    },
    {
     "name": "stdout",
     "output_type": "stream",
     "text": [
      "------------------------------------------------------\n",
      "Inferred types from first 100 line(s) of file as \n",
      "column_type_hints=[str,int,str,str,str]\n",
      "If parsing fails due to incorrect types, you can correct\n",
      "the inferred type list above and pass it to read_csv in\n",
      "the column_type_hints argument\n",
      "------------------------------------------------------\n"
     ]
    },
    {
     "data": {
      "text/html": [
       "<pre>Finished parsing file /Users/nmohan/Documents/Git Code/crowdsourced_cloud/clusterdata-2011-2/schema.csv</pre>"
      ],
      "text/plain": [
       "Finished parsing file /Users/nmohan/Documents/Git Code/crowdsourced_cloud/clusterdata-2011-2/schema.csv"
      ]
     },
     "metadata": {},
     "output_type": "display_data"
    },
    {
     "data": {
      "text/html": [
       "<pre>Parsing completed. Parsed 58 lines in 0.009962 secs.</pre>"
      ],
      "text/plain": [
       "Parsing completed. Parsed 58 lines in 0.009962 secs."
      ]
     },
     "metadata": {},
     "output_type": "display_data"
    }
   ],
   "source": [
    "schema = graphlab.SFrame.read_csv(\"schema.csv\")"
   ]
  },
  {
   "cell_type": "code",
   "execution_count": null,
   "metadata": {
    "collapsed": false,
    "scrolled": true
   },
   "outputs": [],
   "source": [
    "schema.show()"
   ]
  },
  {
   "cell_type": "markdown",
   "metadata": {},
   "source": [
    "## Figuring out task events"
   ]
  },
  {
   "cell_type": "markdown",
   "metadata": {},
   "source": [
    "### Find the last timestamp for the trace"
   ]
  },
  {
   "cell_type": "code",
   "execution_count": 5,
   "metadata": {
    "collapsed": false
   },
   "outputs": [
    {
     "name": "stdout",
     "output_type": "stream",
     "text": [
      "part-00499-of-00500.csv.gz\n"
     ]
    }
   ],
   "source": [
    "print sorted(listdir('task_events'))[-1]"
   ]
  },
  {
   "cell_type": "code",
   "execution_count": 6,
   "metadata": {
    "collapsed": false
   },
   "outputs": [],
   "source": [
    "task_events_csv_colnames = ['time', 'missing', 'job_id', 'task_idx', 'machine_id', 'event_type', 'user', 'sched_cls', 'priority', 'cpu_requested', 'mem_requested', 'disk', 'restriction']         \n",
    "\n",
    "task_event_df = read_csv(path.join('task_events', 'part-00199-of-00500.csv.gz'), header=None, index_col=False, compression='gzip', names=task_events_csv_colnames)"
   ]
  },
  {
   "cell_type": "code",
   "execution_count": null,
   "metadata": {
    "collapsed": false
   },
   "outputs": [],
   "source": [
    "task_event_sf = graphlab.SFrame.read_csv(path.join('task_events', 'part-00199-of-00500.csv.gz'), header=None)\n",
    "#task_event_sf.column_names\n",
    "task_event_sf.rename({'X1':'time', 'X2':'missing', 'X3':'job_id', 'X4':'task_idx', 'X5':'machine_id', 'X6':'event_type', 'X7':'user', 'X8':'sched_cls', 'X9':'priority', 'X10':'cpu_requested', 'X11':'mem_requested', 'X12':'disk', 'X13':'restriction'})"
   ]
  },
  {
   "cell_type": "code",
   "execution_count": null,
   "metadata": {
    "collapsed": false,
    "scrolled": false
   },
   "outputs": [],
   "source": [
    "task_event_sf.show()"
   ]
  },
  {
   "cell_type": "code",
   "execution_count": 7,
   "metadata": {
    "collapsed": false
   },
   "outputs": [
    {
     "name": "stdout",
     "output_type": "stream",
     "text": [
      "1002839450969\n"
     ]
    }
   ],
   "source": [
    "max_time = int(max(task_event_df['time']))\n",
    "print max_time"
   ]
  },
  {
   "cell_type": "markdown",
   "metadata": {},
   "source": [
    "## As the time is pretty huge, lets take a sample to collect the statistics and a single timestamp to collect all values"
   ]
  },
  {
   "cell_type": "markdown",
   "metadata": {},
   "source": [
    "### Lets take 50 random values within 0 to max time"
   ]
  },
  {
   "cell_type": "code",
   "execution_count": 8,
   "metadata": {
    "collapsed": false
   },
   "outputs": [],
   "source": [
    "seed(90)\n",
    "sample_moments = sorted(sample(xrange(max_time + 1), 200))\n",
    "# if you take a larger sample, the statistics will take a longer time to finish"
   ]
  },
  {
   "cell_type": "code",
   "execution_count": 9,
   "metadata": {
    "collapsed": false
   },
   "outputs": [
    {
     "name": "stdout",
     "output_type": "stream",
     "text": [
      "[1966197554, 4953554963, 8028627094, 12788086239, 13982331234, 24779558087, 41160128117, 44051875508, 52767801425, 56096784752, 56428259365, 56780543600, 61175881749, 74490777767, 77470682027, 82272574746, 83301476663, 92956620274, 103111084642, 117891398973, 121782429549, 128828577215, 129201422557, 131829202299, 132194449867, 154415739335, 155424184792, 156318549782, 161638826179, 162439900251, 167679216941, 168647125622, 172965601406, 176471825043, 181164287927, 195638079323, 195660399350, 201813182944, 204248759670, 208486872476, 208563749581, 213417307756, 228180996518, 247048461916, 256151082999, 259313312052, 261694396392, 265478933436, 267597803503, 273604804262, 275853113007, 278997297018, 289347990703, 302002977840, 302543056039, 304593719216, 313499260301, 314377980496, 314995915521, 317768586836, 319646620979, 320342929494, 338506764219, 338708484100, 341000841605, 343426737983, 350465224304, 355854515945, 356712639220, 366358104649, 367965784646, 373256581766, 373714577884, 378665256321, 380232434394, 381260722522, 386342931024, 388965444137, 392922644261, 397633343771, 403378743013, 403831942049, 403938348506, 411163584684, 425013874842, 425306920631, 429964076392, 430091475659, 433968152036, 436378497644, 440379279139, 452546184576, 467215181640, 471897163332, 478019482582, 478775723720, 478928509448, 480798951613, 482547604200, 488688719483, 491880482853, 498423859776, 500989567070, 501535883718, 506242860349, 510957463036, 516248748050, 533662191494, 554220281346, 559079263987, 560548175532, 560654825616, 567951836655, 583440045219, 587793707569, 597555361196, 617749606496, 622170301070, 627236620923, 635250290621, 636210584578, 638866403620, 639820101655, 653038498040, 654242186803, 661352563465, 661453725390, 666654649927, 670519743820, 679737350308, 679900010419, 680986149615, 681287047205, 684287307018, 685738932515, 692922205660, 693094022318, 698226283848, 704254278218, 704717812343, 709037148643, 720743338936, 724737870294, 724831877121, 728467004640, 733625393881, 737834450629, 740802032658, 741325397875, 750998778275, 753944589646, 756332282776, 762235015207, 763151100160, 763846072020, 769463538400, 769844183497, 770277669953, 771884190102, 773432496188, 785610317902, 792226159870, 800381822964, 811392635660, 812247637208, 820241511420, 820980093258, 827621779055, 833901879942, 841744408266, 844603337008, 849181399098, 851175763992, 854355771396, 855951796583, 858296006002, 859263324288, 865488018162, 874816060969, 877476210614, 882988307883, 887879953200, 890891810200, 903576729971, 911155868245, 929975847853, 933497561586, 944682574204, 945365283788, 946714209051, 954642112740, 961163591843, 962752701442, 963774984296, 974956688627, 975233575303, 986349964237, 987508418137, 995502932509, 996454430709]\n"
     ]
    }
   ],
   "source": [
    "print(sample_moments)"
   ]
  },
  {
   "cell_type": "markdown",
   "metadata": {},
   "source": [
    "### Take one random timestamp where we collect all values"
   ]
  },
  {
   "cell_type": "code",
   "execution_count": 10,
   "metadata": {
    "collapsed": false
   },
   "outputs": [
    {
     "name": "stdout",
     "output_type": "stream",
     "text": [
      "607132828776\n"
     ]
    }
   ],
   "source": [
    "snapshot_moment = randint(0, max_time)\n",
    "print snapshot_moment"
   ]
  },
  {
   "cell_type": "markdown",
   "metadata": {},
   "source": [
    "### Let's add the statistics to a data frame"
   ]
  },
  {
   "cell_type": "code",
   "execution_count": 11,
   "metadata": {
    "collapsed": false,
    "scrolled": true
   },
   "outputs": [],
   "source": [
    "from collections import OrderedDict\n",
    "\n",
    "from pandas import DataFrame\n",
    "\n",
    "tasks_dict = {}\n",
    "samples_dicts = OrderedDict([])\n",
    "sample_moments_iterator = iter(sample_moments)\n",
    "current_sample_moment = next(sample_moments_iterator)\n",
    "count = 0\n",
    "tasks_df = None"
   ]
  },
  {
   "cell_type": "code",
   "execution_count": 12,
   "metadata": {
    "collapsed": false
   },
   "outputs": [
    {
     "data": {
      "text/plain": [
       "1966197554"
      ]
     },
     "execution_count": 12,
     "metadata": {},
     "output_type": "execute_result"
    }
   ],
   "source": [
    "current_sample_moment"
   ]
  },
  {
   "cell_type": "code",
   "execution_count": 13,
   "metadata": {
    "collapsed": false
   },
   "outputs": [],
   "source": [
    "#for fn in sorted(listdir('task_events')):    ## for every csv in task_events\n",
    "    \n",
    "#fp = path.join('task_events', fn)\n",
    "fp = path.join('task_events', 'part-00199-of-00500.csv.gz')\n",
    "task_events_df = read_csv(fp, header=None, index_col=False, compression='gzip', \n",
    "                              names=task_events_csv_colnames)"
   ]
  },
  {
   "cell_type": "code",
   "execution_count": 14,
   "metadata": {
    "collapsed": false
   },
   "outputs": [],
   "source": [
    "import numpy\n",
    "\n",
    "for index, event in task_events_df.iterrows():\n",
    "                    \n",
    "        #only logging for certain events. We can skip this and log for all as well    \n",
    "        if event['event_type'] in [0, 7, 8]:  #Update events on jobs (see documentation)\n",
    "            #if numpy.isnan(event['disk']):\n",
    "                tasks_dict[(event['job_id'], event['task_idx'])] = {'task_id' : (event['job_id'], event['task_idx']),\n",
    "                                                                'time' : event['time'],\n",
    "                                                                'machine_id' : event['machine_id'],\n",
    "                                                                'cpu_requested' : event['cpu_requested'], \n",
    "                                                                'mem_requested' : event['mem_requested'],\n",
    "                                                                'disk' : event['disk']}\n",
    "                \n",
    "                #tmp_tasks_df = DataFrame(tasks_dict.values())\n",
    "                #samples_dicts[event['time']] = ({'time' : event['time'], \n",
    "                #                                 'cpu_requested' : sum(tmp_tasks_df['cpu_requested']), \n",
    "                #                                 'mem_requested' : sum(tmp_tasks_df['mem_requested']),\n",
    "                #                                 'disk_requested' : sum(tmp_tasks_df['disk'])})"
   ]
  },
  {
   "cell_type": "code",
   "execution_count": 15,
   "metadata": {
    "collapsed": true
   },
   "outputs": [],
   "source": [
    "working_samples_df = DataFrame(tasks_dict.values())"
   ]
  },
  {
   "cell_type": "markdown",
   "metadata": {},
   "source": [
    "## remove NaN entries for disk usage and time"
   ]
  },
  {
   "cell_type": "code",
   "execution_count": 16,
   "metadata": {
    "collapsed": true
   },
   "outputs": [],
   "source": [
    "samples_df = working_samples_df.copy(deep=True)\n",
    "samples_df = samples_df.dropna(subset=['disk'])\n",
    "samples_df = samples_df.dropna(subset=['time'])"
   ]
  },
  {
   "cell_type": "markdown",
   "metadata": {},
   "source": [
    "## remove requests where CPU request is 0"
   ]
  },
  {
   "cell_type": "code",
   "execution_count": 17,
   "metadata": {
    "collapsed": true
   },
   "outputs": [],
   "source": [
    "samples_df = samples_df[samples_df.cpu_requested >= 0.001]"
   ]
  },
  {
   "cell_type": "code",
   "execution_count": 18,
   "metadata": {
    "collapsed": false
   },
   "outputs": [
    {
     "data": {
      "text/plain": [
       "0.003124"
      ]
     },
     "execution_count": 18,
     "metadata": {},
     "output_type": "execute_result"
    }
   ],
   "source": [
    "min(samples_df['cpu_requested'])"
   ]
  },
  {
   "cell_type": "code",
   "execution_count": 19,
   "metadata": {
    "collapsed": false
   },
   "outputs": [
    {
     "data": {
      "image/png": "[encoded data removed]",
      "text/plain": [
       "<matplotlib.figure.Figure at 0x10ead04d0>"
      ]
     },
     "metadata": {},
     "output_type": "display_data"
    }
   ],
   "source": [
    "import matplotlib.pyplot as plt\n",
    "\n",
    "fig = plt.figure()\n",
    "ax = fig.add_subplot(111)\n",
    "ax.scatter(samples_df['time'], samples_df['cpu_requested'], label='cpu requested')\n",
    "plt.xlim(min(samples_df['time']), max(samples_df['time']))\n",
    "plt.legend()\n",
    "plt.show()"
   ]
  },
  {
   "cell_type": "code",
   "execution_count": 20,
   "metadata": {
    "collapsed": false
   },
   "outputs": [
    {
     "data": {
      "image/png": "[encoded data removed]",
      "text/plain": [
       "<matplotlib.figure.Figure at 0x122d81e10>"
      ]
     },
     "metadata": {},
     "output_type": "display_data"
    }
   ],
   "source": [
    "fig = plt.figure()\n",
    "ax = fig.add_subplot(111)\n",
    "ax.scatter(samples_df['time'], samples_df['mem_requested'], label='mem requested')\n",
    "plt.xlim(min(samples_df['time']), max(samples_df['time']))\n",
    "plt.legend()\n",
    "plt.show()"
   ]
  },
  {
   "cell_type": "code",
   "execution_count": 21,
   "metadata": {
    "collapsed": false
   },
   "outputs": [
    {
     "data": {
      "image/png": "[encoded data removed]",
      "text/plain": [
       "<matplotlib.figure.Figure at 0x12fd8db10>"
      ]
     },
     "metadata": {},
     "output_type": "display_data"
    }
   ],
   "source": [
    "fig = plt.figure()\n",
    "ax = fig.add_subplot(111)\n",
    "ax.scatter(samples_df['time'], samples_df['disk'], label='disk requested')\n",
    "plt.xlim(min(samples_df['time']), max(samples_df['time']))\n",
    "plt.legend()\n",
    "plt.show()"
   ]
  },
  {
   "cell_type": "markdown",
   "metadata": {},
   "source": [
    "## Scaling CPU requests made by clients"
   ]
  },
  {
   "cell_type": "code",
   "execution_count": 22,
   "metadata": {
    "collapsed": false
   },
   "outputs": [
    {
     "name": "stdout",
     "output_type": "stream",
     "text": [
      "       cpu_requested      disk  machine_id  mem_requested  \\\n",
      "0           0.012500  0.000404         NaN       0.015900   \n",
      "1           0.012500  0.000404         NaN       0.015900   \n",
      "2           0.012500  0.000386         NaN       0.006104   \n",
      "3           0.009369  0.000386         NaN       0.004929   \n",
      "4           0.009369  0.000566         NaN       0.023320   \n",
      "5           0.062500  0.001131         NaN       0.046630   \n",
      "6           0.009369  0.001358         NaN       0.006218   \n",
      "7           0.015960  0.000029         NaN       0.011660   \n",
      "8           0.024990  0.000386         NaN       0.022340   \n",
      "10          0.012500  0.000404         NaN       0.015900   \n",
      "11          0.012500  0.000404         NaN       0.015900   \n",
      "12          0.012500  0.000404         NaN       0.015900   \n",
      "13          0.024990  0.000424         NaN       0.031800   \n",
      "14          0.023470  0.000038         NaN       0.015900   \n",
      "15          0.012500  0.000404         NaN       0.015900   \n",
      "16          0.024990  0.000386         NaN       0.024440   \n",
      "17          0.062500  0.000077         NaN       0.031800   \n",
      "18          0.012500  0.000404         NaN       0.015900   \n",
      "19          0.024990  0.000386         NaN       0.023250   \n",
      "20          0.021150  0.000008         NaN       0.002892   \n",
      "21          0.012500  0.000015         NaN       0.004662   \n",
      "22          0.009369  0.000566         NaN       0.023320   \n",
      "23          0.009369  0.000010         NaN       0.005486   \n",
      "24          0.062500  0.000077         NaN       0.031800   \n",
      "25          0.012500  0.000404         NaN       0.015900   \n",
      "26          0.012500  0.000404         NaN       0.015900   \n",
      "27          0.020660  0.000008         NaN       0.002827   \n",
      "28          0.009369  0.000566         NaN       0.023320   \n",
      "29          0.009369  0.000010         NaN       0.005486   \n",
      "30          0.056270  0.000019         NaN       0.007950   \n",
      "...              ...       ...         ...            ...   \n",
      "73908       0.012500  0.000404         NaN       0.015900   \n",
      "73909       0.012500  0.000404         NaN       0.015900   \n",
      "73910       0.012500  0.000404         NaN       0.015900   \n",
      "73911       0.068730  0.000115         NaN       0.011930   \n",
      "73912       0.024990  0.000424         NaN       0.031800   \n",
      "73913       0.187500  0.000950         NaN       0.058780   \n",
      "73914       0.012500  0.000386         NaN       0.006104   \n",
      "73915       0.012500  0.000404         NaN       0.015900   \n",
      "73916       0.024990  0.000386         NaN       0.024540   \n",
      "73917       0.062500  0.000077         NaN       0.031800   \n",
      "73918       0.012500  0.000404         NaN       0.015900   \n",
      "73919       0.012500  0.000404         NaN       0.015900   \n",
      "73920       0.020870  0.000008         NaN       0.002842   \n",
      "73921       0.024990  0.000424         NaN       0.031800   \n",
      "73922       0.012500  0.000386         NaN       0.006104   \n",
      "73923       0.009369  0.000566         NaN       0.023320   \n",
      "73924       0.024990  0.000386         NaN       0.024540   \n",
      "73925       0.024990  0.000386         NaN       0.024540   \n",
      "73926       0.062500  0.000077         NaN       0.031800   \n",
      "73927       0.012500  0.000404         NaN       0.015900   \n",
      "73928       0.012500  0.000404         NaN       0.015900   \n",
      "73929       0.031250  0.000010         NaN       0.001554   \n",
      "73930       0.009369  0.000010         NaN       0.005486   \n",
      "73931       0.062500  0.000077         NaN       0.031800   \n",
      "73932       0.012500  0.000404         NaN       0.015900   \n",
      "73933       0.012500  0.000404         NaN       0.015900   \n",
      "73934       0.024990  0.000424         NaN       0.031800   \n",
      "73935       0.031250  0.000029         NaN       0.007980   \n",
      "73936       0.062500  0.000038         NaN       0.039610   \n",
      "73937       0.009369  0.000038         NaN       0.009323   \n",
      "\n",
      "                   task_id           time  \n",
      "0       (6336594489, 1520)  1001771239501  \n",
      "1       (6336594489, 9131)  1002503645630  \n",
      "2         (6349956887, 80)   998276956595  \n",
      "3        (6350214161, 873)  1000698437085  \n",
      "4        (6349932497, 583)   998120289721  \n",
      "5          (6350000305, 0)   998387991040  \n",
      "6         (6235196851, 36)   998344241556  \n",
      "7       (6350002204, 1759)   998428061812  \n",
      "8        (6350309407, 977)  1002410922857  \n",
      "10      (6336594489, 2957)  1002622069554  \n",
      "11     (6336594489, 10560)  1002530444073  \n",
      "12     (6336594489, 18683)  1000782370747  \n",
      "13      (6350036679, 3231)   998629683637  \n",
      "14       (6349897458, 159)   997851212630  \n",
      "15     (6336594489, 16734)  1000734043907  \n",
      "16       (6350203655, 925)  1000633557880  \n",
      "17       (6349951283, 136)   998297770381  \n",
      "18      (6336594489, 4317)  1002335834975  \n",
      "19       (6350068342, 569)   998665651184  \n",
      "20       (6349930617, 190)   998106721819  \n",
      "21         (6350075842, 0)   998694409032  \n",
      "22       (6349909589, 764)   997947465537  \n",
      "23       (6350177500, 399)  1000240406557  \n",
      "24      (6349951283, 2405)   998297772650  \n",
      "25      (6336594489, 5754)  1002082762937  \n",
      "26     (6336594489, 13357)  1000685610609  \n",
      "27        (6350298472, 92)  1002144714922  \n",
      "28      (6349909589, 1297)   997947466603  \n",
      "29       (6350177500, 615)  1000240406989  \n",
      "30       (6340213596, 247)   998690338716  \n",
      "...                    ...            ...  \n",
      "73908   (6336594489, 3537)   999914017281  \n",
      "73909  (6336594489, 11140)  1000979806392  \n",
      "73910  (6336594489, 18751)  1002560288458  \n",
      "73911    (6350024200, 673)   998560885060  \n",
      "73912   (6350036679, 3675)   998629684081  \n",
      "73913    (5889934721, 750)   999276862895  \n",
      "73914     (6349956887, 30)   998276956495  \n",
      "73915   (6336594489, 3321)  1002464060712  \n",
      "73916   (6350256725, 1551)  1001370239363  \n",
      "73917    (6349951283, 716)   998297770961  \n",
      "73918   (6336594489, 4385)  1002479390724  \n",
      "73919  (6336594489, 12500)  1002630744925  \n",
      "73920    (6350176280, 182)  1000231276616  \n",
      "73921   (6350036679, 1212)   998629681618  \n",
      "73922    (6350124903, 381)   999332357726  \n",
      "73923    (6349909589, 184)   997947464377  \n",
      "73924   (6350256725, 1779)  1001370239591  \n",
      "73925    (6350256725, 222)  1001370238034  \n",
      "73926   (6349951283, 2217)   998297772462  \n",
      "73927   (6336594489, 6334)  1001187097856  \n",
      "73928  (6336594489, 13937)  1002518761741  \n",
      "73929     (6350133989, 13)   999433663435  \n",
      "73930     (6350177500, 35)  1000240405829  \n",
      "73931   (6349951283, 4354)   998297774599  \n",
      "73932   (6336594489, 7771)  1000667429748  \n",
      "73933  (6336594489, 15374)  1002548804411  \n",
      "73934    (6350036679, 994)   998629681400  \n",
      "73935    (6350325147, 111)  1002494832727  \n",
      "73936    (6312699084, 753)   998355182076  \n",
      "73937    (6350275675, 310)  1001623430649  \n",
      "\n",
      "[73242 rows x 6 columns]\n"
     ]
    }
   ],
   "source": [
    "new_sample_df = samples_df.copy(deep=True)\n",
    "\n",
    "print new_sample_df"
   ]
  },
  {
   "cell_type": "code",
   "execution_count": 23,
   "metadata": {
    "collapsed": false
   },
   "outputs": [],
   "source": [
    "for index, event in new_sample_df.iterrows():\n",
    "    \n",
    "    if event['cpu_requested'] > 0 and event['cpu_requested'] <= 0.03:\n",
    "        new_sample_df.loc[index, 'cpu_requested'] = event['cpu_requested'] * 90\n",
    "        \n",
    "    if event['cpu_requested'] > 0.03 and event['cpu_requested'] <= 0.08:\n",
    "        new_sample_df.loc[index, 'cpu_requested'] = event['cpu_requested'] * 80\n",
    "        \n",
    "    if event['cpu_requested'] > 0.08:\n",
    "        new_sample_df.loc[index, 'cpu_requested'] = event['cpu_requested'] * 60"
   ]
  },
  {
   "cell_type": "code",
   "execution_count": 24,
   "metadata": {
    "collapsed": false
   },
   "outputs": [
    {
     "data": {
      "text/plain": [
       "0.28116000000000002"
      ]
     },
     "execution_count": 24,
     "metadata": {},
     "output_type": "execute_result"
    }
   ],
   "source": [
    "min(new_sample_df['cpu_requested'])"
   ]
  },
  {
   "cell_type": "code",
   "execution_count": 25,
   "metadata": {
    "collapsed": false
   },
   "outputs": [
    {
     "data": {
      "text/plain": [
       "15.174000000000001"
      ]
     },
     "execution_count": 25,
     "metadata": {},
     "output_type": "execute_result"
    }
   ],
   "source": [
    "max(new_sample_df['cpu_requested'])"
   ]
  },
  {
   "cell_type": "code",
   "execution_count": 26,
   "metadata": {
    "collapsed": false
   },
   "outputs": [
    {
     "data": {
      "image/png": "[encoded data removed]",
      "text/plain": [
       "<matplotlib.figure.Figure at 0x1203e19d0>"
      ]
     },
     "metadata": {},
     "output_type": "display_data"
    }
   ],
   "source": [
    "fig = plt.figure()\n",
    "ax = fig.add_subplot(111)\n",
    "ax.scatter(new_sample_df['time'], new_sample_df['cpu_requested'], label='cpu requested')\n",
    "plt.xlim(min(new_sample_df['time']), max(new_sample_df['time']))\n",
    "plt.legend()\n",
    "plt.show()"
   ]
  },
  {
   "cell_type": "markdown",
   "metadata": {},
   "source": [
    "## scaling the memory requests"
   ]
  },
  {
   "cell_type": "code",
   "execution_count": 27,
   "metadata": {
    "collapsed": true
   },
   "outputs": [],
   "source": [
    "for index, event in new_sample_df.iterrows():\n",
    "    \n",
    "    if event['mem_requested'] > 0 and event['mem_requested'] <= 0.0009:\n",
    "        new_sample_df.loc[index, 'mem_requested'] = event['mem_requested'] * 350\n",
    "        \n",
    "    if event['mem_requested'] > 0.0009 and event['mem_requested'] <= 0.01:\n",
    "        new_sample_df.loc[index, 'mem_requested'] = event['mem_requested'] * 330\n",
    "        \n",
    "    if event['mem_requested'] > 0.01:\n",
    "        new_sample_df.loc[index, 'mem_requested'] = event['mem_requested'] * 310"
   ]
  },
  {
   "cell_type": "code",
   "execution_count": 28,
   "metadata": {
    "collapsed": false
   },
   "outputs": [
    {
     "data": {
      "text/plain": [
       "0.021696499999999997"
      ]
     },
     "execution_count": 28,
     "metadata": {},
     "output_type": "execute_result"
    }
   ],
   "source": [
    "min(new_sample_df['mem_requested'])"
   ]
  },
  {
   "cell_type": "code",
   "execution_count": 29,
   "metadata": {
    "collapsed": false
   },
   "outputs": [
    {
     "data": {
      "image/png": "[encoded data removed]",
      "text/plain": [
       "<matplotlib.figure.Figure at 0x1228d66d0>"
      ]
     },
     "metadata": {},
     "output_type": "display_data"
    }
   ],
   "source": [
    "fig = plt.figure()\n",
    "ax = fig.add_subplot(111)\n",
    "ax.scatter(new_sample_df['time'], new_sample_df['mem_requested'], label='mem requested')\n",
    "plt.xlim(min(new_sample_df['time']), max(new_sample_df['time']))\n",
    "plt.legend()\n",
    "plt.show()"
   ]
  },
  {
   "cell_type": "markdown",
   "metadata": {
    "collapsed": true
   },
   "source": [
    "## Add pricing model to requests"
   ]
  },
  {
   "cell_type": "markdown",
   "metadata": {},
   "source": [
    "### Add a new column for prices"
   ]
  },
  {
   "cell_type": "code",
   "execution_count": 33,
   "metadata": {
    "collapsed": true
   },
   "outputs": [
    {
     "name": "stdout",
     "output_type": "stream",
     "text": [
      "       cpu_requested      disk  machine_id  mem_requested  \\\n",
      "0            1.12500  0.000404         NaN        4.92900   \n",
      "1            1.12500  0.000404         NaN        4.92900   \n",
      "2            1.12500  0.000386         NaN        2.01432   \n",
      "3            0.84321  0.000386         NaN        1.62657   \n",
      "4            0.84321  0.000566         NaN        7.22920   \n",
      "5            5.00000  0.001131         NaN       14.45530   \n",
      "6            0.84321  0.001358         NaN        2.05194   \n",
      "7            1.43640  0.000029         NaN        3.61460   \n",
      "8            2.24910  0.000386         NaN        6.92540   \n",
      "10           1.12500  0.000404         NaN        4.92900   \n",
      "11           1.12500  0.000404         NaN        4.92900   \n",
      "12           1.12500  0.000404         NaN        4.92900   \n",
      "13           2.24910  0.000424         NaN        9.85800   \n",
      "14           2.11230  0.000038         NaN        4.92900   \n",
      "15           1.12500  0.000404         NaN        4.92900   \n",
      "16           2.24910  0.000386         NaN        7.57640   \n",
      "17           5.00000  0.000077         NaN        9.85800   \n",
      "18           1.12500  0.000404         NaN        4.92900   \n",
      "19           2.24910  0.000386         NaN        7.20750   \n",
      "20           1.90350  0.000008         NaN        0.95436   \n",
      "21           1.12500  0.000015         NaN        1.53846   \n",
      "22           0.84321  0.000566         NaN        7.22920   \n",
      "23           0.84321  0.000010         NaN        1.81038   \n",
      "24           5.00000  0.000077         NaN        9.85800   \n",
      "25           1.12500  0.000404         NaN        4.92900   \n",
      "26           1.12500  0.000404         NaN        4.92900   \n",
      "27           1.85940  0.000008         NaN        0.93291   \n",
      "28           0.84321  0.000566         NaN        7.22920   \n",
      "29           0.84321  0.000010         NaN        1.81038   \n",
      "30           4.50160  0.000019         NaN        2.62350   \n",
      "...              ...       ...         ...            ...   \n",
      "73908        1.12500  0.000404         NaN        4.92900   \n",
      "73909        1.12500  0.000404         NaN        4.92900   \n",
      "73910        1.12500  0.000404         NaN        4.92900   \n",
      "73911        5.49840  0.000115         NaN        3.69830   \n",
      "73912        2.24910  0.000424         NaN        9.85800   \n",
      "73913       11.25000  0.000950         NaN       18.22180   \n",
      "73914        1.12500  0.000386         NaN        2.01432   \n",
      "73915        1.12500  0.000404         NaN        4.92900   \n",
      "73916        2.24910  0.000386         NaN        7.60740   \n",
      "73917        5.00000  0.000077         NaN        9.85800   \n",
      "73918        1.12500  0.000404         NaN        4.92900   \n",
      "73919        1.12500  0.000404         NaN        4.92900   \n",
      "73920        1.87830  0.000008         NaN        0.93786   \n",
      "73921        2.24910  0.000424         NaN        9.85800   \n",
      "73922        1.12500  0.000386         NaN        2.01432   \n",
      "73923        0.84321  0.000566         NaN        7.22920   \n",
      "73924        2.24910  0.000386         NaN        7.60740   \n",
      "73925        2.24910  0.000386         NaN        7.60740   \n",
      "73926        5.00000  0.000077         NaN        9.85800   \n",
      "73927        1.12500  0.000404         NaN        4.92900   \n",
      "73928        1.12500  0.000404         NaN        4.92900   \n",
      "73929        2.50000  0.000010         NaN        0.51282   \n",
      "73930        0.84321  0.000010         NaN        1.81038   \n",
      "73931        5.00000  0.000077         NaN        9.85800   \n",
      "73932        1.12500  0.000404         NaN        4.92900   \n",
      "73933        1.12500  0.000404         NaN        4.92900   \n",
      "73934        2.24910  0.000424         NaN        9.85800   \n",
      "73935        2.50000  0.000029         NaN        2.63340   \n",
      "73936        5.00000  0.000038         NaN       12.27910   \n",
      "73937        0.84321  0.000038         NaN        3.07659   \n",
      "\n",
      "                   task_id           time  price  \n",
      "0       (6336594489, 1520)  1001771239501    NaN  \n",
      "1       (6336594489, 9131)  1002503645630    NaN  \n",
      "2         (6349956887, 80)   998276956595    NaN  \n",
      "3        (6350214161, 873)  1000698437085    NaN  \n",
      "4        (6349932497, 583)   998120289721    NaN  \n",
      "5          (6350000305, 0)   998387991040    NaN  \n",
      "6         (6235196851, 36)   998344241556    NaN  \n",
      "7       (6350002204, 1759)   998428061812    NaN  \n",
      "8        (6350309407, 977)  1002410922857    NaN  \n",
      "10      (6336594489, 2957)  1002622069554    NaN  \n",
      "11     (6336594489, 10560)  1002530444073    NaN  \n",
      "12     (6336594489, 18683)  1000782370747    NaN  \n",
      "13      (6350036679, 3231)   998629683637    NaN  \n",
      "14       (6349897458, 159)   997851212630    NaN  \n",
      "15     (6336594489, 16734)  1000734043907    NaN  \n",
      "16       (6350203655, 925)  1000633557880    NaN  \n",
      "17       (6349951283, 136)   998297770381    NaN  \n",
      "18      (6336594489, 4317)  1002335834975    NaN  \n",
      "19       (6350068342, 569)   998665651184    NaN  \n",
      "20       (6349930617, 190)   998106721819    NaN  \n",
      "21         (6350075842, 0)   998694409032    NaN  \n",
      "22       (6349909589, 764)   997947465537    NaN  \n",
      "23       (6350177500, 399)  1000240406557    NaN  \n",
      "24      (6349951283, 2405)   998297772650    NaN  \n",
      "25      (6336594489, 5754)  1002082762937    NaN  \n",
      "26     (6336594489, 13357)  1000685610609    NaN  \n",
      "27        (6350298472, 92)  1002144714922    NaN  \n",
      "28      (6349909589, 1297)   997947466603    NaN  \n",
      "29       (6350177500, 615)  1000240406989    NaN  \n",
      "30       (6340213596, 247)   998690338716    NaN  \n",
      "...                    ...            ...    ...  \n",
      "73908   (6336594489, 3537)   999914017281    NaN  \n",
      "73909  (6336594489, 11140)  1000979806392    NaN  \n",
      "73910  (6336594489, 18751)  1002560288458    NaN  \n",
      "73911    (6350024200, 673)   998560885060    NaN  \n",
      "73912   (6350036679, 3675)   998629684081    NaN  \n",
      "73913    (5889934721, 750)   999276862895    NaN  \n",
      "73914     (6349956887, 30)   998276956495    NaN  \n",
      "73915   (6336594489, 3321)  1002464060712    NaN  \n",
      "73916   (6350256725, 1551)  1001370239363    NaN  \n",
      "73917    (6349951283, 716)   998297770961    NaN  \n",
      "73918   (6336594489, 4385)  1002479390724    NaN  \n",
      "73919  (6336594489, 12500)  1002630744925    NaN  \n",
      "73920    (6350176280, 182)  1000231276616    NaN  \n",
      "73921   (6350036679, 1212)   998629681618    NaN  \n",
      "73922    (6350124903, 381)   999332357726    NaN  \n",
      "73923    (6349909589, 184)   997947464377    NaN  \n",
      "73924   (6350256725, 1779)  1001370239591    NaN  \n",
      "73925    (6350256725, 222)  1001370238034    NaN  \n",
      "73926   (6349951283, 2217)   998297772462    NaN  \n",
      "73927   (6336594489, 6334)  1001187097856    NaN  \n",
      "73928  (6336594489, 13937)  1002518761741    NaN  \n",
      "73929     (6350133989, 13)   999433663435    NaN  \n",
      "73930     (6350177500, 35)  1000240405829    NaN  \n",
      "73931   (6349951283, 4354)   998297774599    NaN  \n",
      "73932   (6336594489, 7771)  1000667429748    NaN  \n",
      "73933  (6336594489, 15374)  1002548804411    NaN  \n",
      "73934    (6350036679, 994)   998629681400    NaN  \n",
      "73935    (6350325147, 111)  1002494832727    NaN  \n",
      "73936    (6312699084, 753)   998355182076    NaN  \n",
      "73937    (6350275675, 310)  1001623430649    NaN  \n",
      "\n",
      "[73242 rows x 7 columns]\n"
     ]
    }
   ],
   "source": [
    "new_sample_df['price'] = numpy.nan\n",
    "\n",
    "print new_sample_df"
   ]
  },
  {
   "cell_type": "markdown",
   "metadata": {},
   "source": [
    "### We now add the pricing based on m4 frankfurt prices on AWS (https://aws.amazon.com/emr/pricing/) with a random coefficient from 0.5 to 2"
   ]
  },
  {
   "cell_type": "code",
   "execution_count": 35,
   "metadata": {
    "collapsed": false
   },
   "outputs": [],
   "source": [
    "import random\n",
    "\n",
    "for index, event in new_sample_df.iterrows():\n",
    "    price = 0\n",
    "    coeff = random.uniform(0.5, 2)\n",
    "    ## Less than 2core CPU and 8GB RAM\n",
    "    if event['cpu_requested'] < 2 and event['mem_requested'] < 8:\n",
    "        new_sample_df.loc[index, 'price'] = 0.12 * coeff\n",
    "        continue\n",
    "    ## Less than 4core CPU and 16GB RAM    \n",
    "    elif event['cpu_requested'] < 4 and event['mem_requested'] < 16:\n",
    "        new_sample_df.loc[index, 'price'] = 0.24 * coeff\n",
    "        continue\n",
    "    ## Less than 8core CPU and 32GB RAM    \n",
    "    elif event['cpu_requested'] < 8 and event['mem_requested'] < 32:\n",
    "        new_sample_df.loc[index, 'price'] = 0.48 * coeff\n",
    "        continue\n",
    "    ## All higher requests    \n",
    "    else:\n",
    "        new_sample_df.loc[index, 'price'] = 0.96 * coeff"
   ]
  },
  {
   "cell_type": "code",
   "execution_count": 36,
   "metadata": {
    "collapsed": true
   },
   "outputs": [
    {
     "name": "stdout",
     "output_type": "stream",
     "text": [
      "       cpu_requested      disk  machine_id  mem_requested  \\\n",
      "0            1.12500  0.000404         NaN        4.92900   \n",
      "1            1.12500  0.000404         NaN        4.92900   \n",
      "2            1.12500  0.000386         NaN        2.01432   \n",
      "3            0.84321  0.000386         NaN        1.62657   \n",
      "4            0.84321  0.000566         NaN        7.22920   \n",
      "5            5.00000  0.001131         NaN       14.45530   \n",
      "6            0.84321  0.001358         NaN        2.05194   \n",
      "7            1.43640  0.000029         NaN        3.61460   \n",
      "8            2.24910  0.000386         NaN        6.92540   \n",
      "10           1.12500  0.000404         NaN        4.92900   \n",
      "11           1.12500  0.000404         NaN        4.92900   \n",
      "12           1.12500  0.000404         NaN        4.92900   \n",
      "13           2.24910  0.000424         NaN        9.85800   \n",
      "14           2.11230  0.000038         NaN        4.92900   \n",
      "15           1.12500  0.000404         NaN        4.92900   \n",
      "16           2.24910  0.000386         NaN        7.57640   \n",
      "17           5.00000  0.000077         NaN        9.85800   \n",
      "18           1.12500  0.000404         NaN        4.92900   \n",
      "19           2.24910  0.000386         NaN        7.20750   \n",
      "20           1.90350  0.000008         NaN        0.95436   \n",
      "21           1.12500  0.000015         NaN        1.53846   \n",
      "22           0.84321  0.000566         NaN        7.22920   \n",
      "23           0.84321  0.000010         NaN        1.81038   \n",
      "24           5.00000  0.000077         NaN        9.85800   \n",
      "25           1.12500  0.000404         NaN        4.92900   \n",
      "26           1.12500  0.000404         NaN        4.92900   \n",
      "27           1.85940  0.000008         NaN        0.93291   \n",
      "28           0.84321  0.000566         NaN        7.22920   \n",
      "29           0.84321  0.000010         NaN        1.81038   \n",
      "30           4.50160  0.000019         NaN        2.62350   \n",
      "...              ...       ...         ...            ...   \n",
      "73908        1.12500  0.000404         NaN        4.92900   \n",
      "73909        1.12500  0.000404         NaN        4.92900   \n",
      "73910        1.12500  0.000404         NaN        4.92900   \n",
      "73911        5.49840  0.000115         NaN        3.69830   \n",
      "73912        2.24910  0.000424         NaN        9.85800   \n",
      "73913       11.25000  0.000950         NaN       18.22180   \n",
      "73914        1.12500  0.000386         NaN        2.01432   \n",
      "73915        1.12500  0.000404         NaN        4.92900   \n",
      "73916        2.24910  0.000386         NaN        7.60740   \n",
      "73917        5.00000  0.000077         NaN        9.85800   \n",
      "73918        1.12500  0.000404         NaN        4.92900   \n",
      "73919        1.12500  0.000404         NaN        4.92900   \n",
      "73920        1.87830  0.000008         NaN        0.93786   \n",
      "73921        2.24910  0.000424         NaN        9.85800   \n",
      "73922        1.12500  0.000386         NaN        2.01432   \n",
      "73923        0.84321  0.000566         NaN        7.22920   \n",
      "73924        2.24910  0.000386         NaN        7.60740   \n",
      "73925        2.24910  0.000386         NaN        7.60740   \n",
      "73926        5.00000  0.000077         NaN        9.85800   \n",
      "73927        1.12500  0.000404         NaN        4.92900   \n",
      "73928        1.12500  0.000404         NaN        4.92900   \n",
      "73929        2.50000  0.000010         NaN        0.51282   \n",
      "73930        0.84321  0.000010         NaN        1.81038   \n",
      "73931        5.00000  0.000077         NaN        9.85800   \n",
      "73932        1.12500  0.000404         NaN        4.92900   \n",
      "73933        1.12500  0.000404         NaN        4.92900   \n",
      "73934        2.24910  0.000424         NaN        9.85800   \n",
      "73935        2.50000  0.000029         NaN        2.63340   \n",
      "73936        5.00000  0.000038         NaN       12.27910   \n",
      "73937        0.84321  0.000038         NaN        3.07659   \n",
      "\n",
      "                   task_id           time     price  \n",
      "0       (6336594489, 1520)  1001771239501  0.101418  \n",
      "1       (6336594489, 9131)  1002503645630  0.176880  \n",
      "2         (6349956887, 80)   998276956595  0.093299  \n",
      "3        (6350214161, 873)  1000698437085  0.085463  \n",
      "4        (6349932497, 583)   998120289721  0.099819  \n",
      "5          (6350000305, 0)   998387991040  0.628103  \n",
      "6         (6235196851, 36)   998344241556  0.223815  \n",
      "7       (6350002204, 1759)   998428061812  0.066150  \n",
      "8        (6350309407, 977)  1002410922857  0.443464  \n",
      "10      (6336594489, 2957)  1002622069554  0.077645  \n",
      "11     (6336594489, 10560)  1002530444073  0.162823  \n",
      "12     (6336594489, 18683)  1000782370747  0.189430  \n",
      "13      (6350036679, 3231)   998629683637  0.232253  \n",
      "14       (6349897458, 159)   997851212630  0.150768  \n",
      "15     (6336594489, 16734)  1000734043907  0.231761  \n",
      "16       (6350203655, 925)  1000633557880  0.441950  \n",
      "17       (6349951283, 136)   998297770381  0.403491  \n",
      "18      (6336594489, 4317)  1002335834975  0.102490  \n",
      "19       (6350068342, 569)   998665651184  0.257176  \n",
      "20       (6349930617, 190)   998106721819  0.064461  \n",
      "21         (6350075842, 0)   998694409032  0.168692  \n",
      "22       (6349909589, 764)   997947465537  0.230766  \n",
      "23       (6350177500, 399)  1000240406557  0.176740  \n",
      "24      (6349951283, 2405)   998297772650  0.817652  \n",
      "25      (6336594489, 5754)  1002082762937  0.153766  \n",
      "26     (6336594489, 13357)  1000685610609  0.060190  \n",
      "27        (6350298472, 92)  1002144714922  0.213616  \n",
      "28      (6349909589, 1297)   997947466603  0.128572  \n",
      "29       (6350177500, 615)  1000240406989  0.104584  \n",
      "30       (6340213596, 247)   998690338716  0.291424  \n",
      "...                    ...            ...       ...  \n",
      "73908   (6336594489, 3537)   999914017281  0.156829  \n",
      "73909  (6336594489, 11140)  1000979806392  0.214311  \n",
      "73910  (6336594489, 18751)  1002560288458  0.106297  \n",
      "73911    (6350024200, 673)   998560885060  0.860430  \n",
      "73912   (6350036679, 3675)   998629684081  0.348624  \n",
      "73913    (5889934721, 750)   999276862895  1.005749  \n",
      "73914     (6349956887, 30)   998276956495  0.164257  \n",
      "73915   (6336594489, 3321)  1002464060712  0.164792  \n",
      "73916   (6350256725, 1551)  1001370239363  0.245153  \n",
      "73917    (6349951283, 716)   998297770961  0.599696  \n",
      "73918   (6336594489, 4385)  1002479390724  0.219807  \n",
      "73919  (6336594489, 12500)  1002630744925  0.169825  \n",
      "73920    (6350176280, 182)  1000231276616  0.218363  \n",
      "73921   (6350036679, 1212)   998629681618  0.389156  \n",
      "73922    (6350124903, 381)   999332357726  0.104328  \n",
      "73923    (6349909589, 184)   997947464377  0.193904  \n",
      "73924   (6350256725, 1779)  1001370239591  0.392214  \n",
      "73925    (6350256725, 222)  1001370238034  0.367431  \n",
      "73926   (6349951283, 2217)   998297772462  0.929620  \n",
      "73927   (6336594489, 6334)  1001187097856  0.067640  \n",
      "73928  (6336594489, 13937)  1002518761741  0.158618  \n",
      "73929     (6350133989, 13)   999433663435  0.478522  \n",
      "73930     (6350177500, 35)  1000240405829  0.206079  \n",
      "73931   (6349951283, 4354)   998297774599  0.700698  \n",
      "73932   (6336594489, 7771)  1000667429748  0.127894  \n",
      "73933  (6336594489, 15374)  1002548804411  0.163005  \n",
      "73934    (6350036679, 994)   998629681400  0.473042  \n",
      "73935    (6350325147, 111)  1002494832727  0.318953  \n",
      "73936    (6312699084, 753)   998355182076  0.442143  \n",
      "73937    (6350275675, 310)  1001623430649  0.164653  \n",
      "\n",
      "[73242 rows x 7 columns]\n"
     ]
    }
   ],
   "source": [
    "print new_sample_df"
   ]
  },
  {
   "cell_type": "markdown",
   "metadata": {},
   "source": [
    "## Save dataframe as CSV"
   ]
  },
  {
   "cell_type": "code",
   "execution_count": 37,
   "metadata": {
    "collapsed": true
   },
   "outputs": [],
   "source": [
    "new_sample_df.to_csv(\"google_cluster_pricing_dataset\", sep='\\t', index=False)"
   ]
  },
  {
   "cell_type": "code",
   "execution_count": null,
   "metadata": {
    "collapsed": true
   },
   "outputs": [],
   "source": []
  }
 ],
 "metadata": {
  "kernelspec": {
   "display_name": "Python 2",
   "language": "python",
   "name": "python2"
  },
  "language_info": {
   "codemirror_mode": {
    "name": "ipython",
    "version": 2
   },
   "file_extension": ".py",
   "mimetype": "text/x-python",
   "name": "python",
   "nbconvert_exporter": "python",
   "pygments_lexer": "ipython2",
   "version": "2.7.13"
  }
 },
 "nbformat": 4,
 "nbformat_minor": 2
}
